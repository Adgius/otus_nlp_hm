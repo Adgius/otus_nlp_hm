{
 "cells": [
  {
   "cell_type": "code",
   "execution_count": 1,
   "id": "98baec40",
   "metadata": {},
   "outputs": [],
   "source": [
    "import os\n",
    "import pandas as pd\n",
    "import time\n",
    "from bs4 import BeautifulSoup\n",
    "import undetected_chromedriver as uc"
   ]
  },
  {
   "cell_type": "code",
   "execution_count": 2,
   "id": "6e488c23",
   "metadata": {},
   "outputs": [],
   "source": [
    "url = 'https://market.yandex.ru/shop--zolotoe-iabloko/592587/reviews'"
   ]
  },
  {
   "cell_type": "code",
   "execution_count": 3,
   "id": "a50571fc",
   "metadata": {},
   "outputs": [],
   "source": [
    "def captcha(func):\n",
    "    \n",
    "    def parse():\n",
    "        page = driver.page_source\n",
    "        soup = BeautifulSoup(page, 'lxml')\n",
    "        return soup\n",
    "    \n",
    "    def wrapper(url):\n",
    "        driver.get(url)\n",
    "        soup = parse()\n",
    "        print('Страница загружена')\n",
    "                \n",
    "        if soup.select_one('.utilityfocus'):\n",
    "            print('Обнаружена капча')\n",
    "            while soup.select_one('.utilityfocus'):\n",
    "                print('Необходимо решить капчу')\n",
    "                soup = parse()\n",
    "                time.sleep(2)\n",
    "                \n",
    "        time.sleep(2)\n",
    "        soup = parse()\n",
    "        \n",
    "        return func(soup)\n",
    "    return wrapper"
   ]
  },
  {
   "cell_type": "code",
   "execution_count": 33,
   "id": "d94db931",
   "metadata": {},
   "outputs": [],
   "source": [
    "@captcha\n",
    "def test_f(soup):\n",
    "    time.sleep(2)\n",
    "    df = pd.DataFrame(columns=['username', 'score', 'delivery', 'date', 'positive', 'negative', 'comment', 'answer', 'likes', 'dislikes'])\n",
    "    \n",
    "    for review in soup.select('._1T0L5'):\n",
    "        row = []\n",
    "        try:\n",
    "            row.append(review.find('div', {'data-auto': 'user_name'}).text)  # Name\n",
    "        except:\n",
    "            row.append(None)\n",
    "        try:\n",
    "            row.append(review.find('div', {'class': 'JOpBg'}).text)  # Score\n",
    "        except:\n",
    "            row.append(None)\n",
    "        try:\n",
    "            row.append(review.select_one('._36v_m').text)  # Delivery\n",
    "        except:\n",
    "            row.append(None)\n",
    "        try:\n",
    "            row.append(review.select_one('span._1o1sC._3t21t').text)  # Date\n",
    "        except:\n",
    "            row.append(None)\n",
    "        try:\n",
    "            row.append(review.find('dl', {'data-auto': 'review-pro'}).find('dd').text)  # Positive\n",
    "        except:\n",
    "            row.append(None)\n",
    "        try:\n",
    "            row.append(review.find('dl', {'data-auto': 'review-contra'}).find('dd').text)  # Negetive\n",
    "        except:\n",
    "            row.append(None)\n",
    "        try:\n",
    "            row.append(review.find('dl', {'data-auto': 'review-comment'}).find('dd').text)  # Comment\n",
    "        except:\n",
    "            row.append(None)\n",
    "        try:\n",
    "            row.append(review.select('div[data-tid]')[-2].text)  # Answer\n",
    "        except:\n",
    "            row.append(None)\n",
    "        try:\n",
    "            row.append(review.select_one('div[data-auto=review-like] span[data-auto=buttonText] span[data-auto=count]').text)  # Likes\n",
    "        except:\n",
    "            row.append(None)\n",
    "        try:\n",
    "            row.append(review.select_one('div[data-auto=review-dislike] span[data-auto=buttonText] span[data-auto=count]').text)  # Dislikes\n",
    "        except:\n",
    "            row.append(None)\n",
    "        df.loc[df.shape[0], :] = row\n",
    "    return df "
   ]
  },
  {
   "cell_type": "code",
   "execution_count": 34,
   "id": "fdde12bd",
   "metadata": {},
   "outputs": [],
   "source": [
    "def save(df):\n",
    "    if os.path.exists('Yandex_reviews.xlsx'):\n",
    "        df_ = pd.read_excel('Yandex_reviews.xlsx')\n",
    "        df = pd.concat([df_, df])\n",
    "        df.drop_duplicates(inplace=True)\n",
    "    df.to_excel('Yandex_reviews.xlsx', index=False)    "
   ]
  },
  {
   "cell_type": "code",
   "execution_count": null,
   "id": "0510f7df",
   "metadata": {
    "scrolled": true
   },
   "outputs": [],
   "source": [
    "page = 1\n",
    "driver = uc.Chrome()\n",
    "while True:\n",
    "    print('Страница ', page)\n",
    "    if 'поставили магазину оценку, но ничего не' in driver.page_source:\n",
    "        break\n",
    "    df = test_f(url + f'?page={page}')\n",
    "    save(df)\n",
    "    page += 1\n",
    "    time.sleep(10)"
   ]
  },
  {
   "cell_type": "markdown",
   "id": "4a635d8b",
   "metadata": {},
   "source": [
    "# Постобработка"
   ]
  },
  {
   "cell_type": "code",
   "execution_count": 36,
   "id": "3a4e64de",
   "metadata": {},
   "outputs": [],
   "source": [
    "from datetime import timedelta\n",
    "from datetime import datetime"
   ]
  },
  {
   "cell_type": "code",
   "execution_count": 37,
   "id": "73fbbd54",
   "metadata": {},
   "outputs": [],
   "source": [
    "df = pd.read_excel('Yandex_reviews.xlsx')"
   ]
  },
  {
   "cell_type": "code",
   "execution_count": 38,
   "id": "20039f6c",
   "metadata": {},
   "outputs": [
    {
     "data": {
      "text/html": [
       "<div>\n",
       "<style scoped>\n",
       "    .dataframe tbody tr th:only-of-type {\n",
       "        vertical-align: middle;\n",
       "    }\n",
       "\n",
       "    .dataframe tbody tr th {\n",
       "        vertical-align: top;\n",
       "    }\n",
       "\n",
       "    .dataframe thead th {\n",
       "        text-align: right;\n",
       "    }\n",
       "</style>\n",
       "<table border=\"1\" class=\"dataframe\">\n",
       "  <thead>\n",
       "    <tr style=\"text-align: right;\">\n",
       "      <th></th>\n",
       "      <th>username</th>\n",
       "      <th>score</th>\n",
       "      <th>delivery</th>\n",
       "      <th>date</th>\n",
       "      <th>positive</th>\n",
       "      <th>negative</th>\n",
       "      <th>comment</th>\n",
       "      <th>answer</th>\n",
       "      <th>likes</th>\n",
       "      <th>dislikes</th>\n",
       "    </tr>\n",
       "  </thead>\n",
       "  <tbody>\n",
       "    <tr>\n",
       "      <th>0</th>\n",
       "      <td>Алёна К.</td>\n",
       "      <td>Отличный магазин</td>\n",
       "      <td>Способ покупки: доставка</td>\n",
       "      <td>6 дней назад, Саратов</td>\n",
       "      <td>Всё пришло в срок, хорошо упакованное, без пов...</td>\n",
       "      <td>Не измельчает более твердые сорта фруктов и ов...</td>\n",
       "      <td>Первый раз оформляла заказ в приложении \"Золот...</td>\n",
       "      <td>Добрый день, Алёна!\\n\\nБлагодарим, что поделил...</td>\n",
       "      <td>1</td>\n",
       "      <td>0</td>\n",
       "    </tr>\n",
       "    <tr>\n",
       "      <th>1</th>\n",
       "      <td>Имя скрыто</td>\n",
       "      <td>Отличный магазин</td>\n",
       "      <td>Способ покупки: доставка</td>\n",
       "      <td>6 дней назад, Клин</td>\n",
       "      <td>KITFORT кт-1005-2\\nЗолотое яблоко для меня ока...</td>\n",
       "      <td>NaN</td>\n",
       "      <td>NaN</td>\n",
       "      <td>Добрый день!\\n\\nСпасибо, что делитесь своими в...</td>\n",
       "      <td>0</td>\n",
       "      <td>2</td>\n",
       "    </tr>\n",
       "    <tr>\n",
       "      <th>2</th>\n",
       "      <td>Алина Б.</td>\n",
       "      <td>Отличный магазин</td>\n",
       "      <td>Способ покупки: доставка</td>\n",
       "      <td>Неделю назад, Москва</td>\n",
       "      <td>Быстрая доставка в тот же день.</td>\n",
       "      <td>Нет</td>\n",
       "      <td>Заказывала масло от растяжек, которое нигде не...</td>\n",
       "      <td>Добрый день, Алина!\\n\\nБлагодарим вас за отзыв...</td>\n",
       "      <td>3</td>\n",
       "      <td>6</td>\n",
       "    </tr>\n",
       "    <tr>\n",
       "      <th>3</th>\n",
       "      <td>Vyacheslav Trushkov</td>\n",
       "      <td>Ужасный магазин</td>\n",
       "      <td>Способ покупки: доставка</td>\n",
       "      <td>Неделю назад, Москва</td>\n",
       "      <td>NaN</td>\n",
       "      <td>Сделал заказ в приложении. Время доставки было...</td>\n",
       "      <td>NaN</td>\n",
       "      <td>Добрый день!\\n\\nБлагодарим, что рассказали о п...</td>\n",
       "      <td>0</td>\n",
       "      <td>0</td>\n",
       "    </tr>\n",
       "    <tr>\n",
       "      <th>4</th>\n",
       "      <td>Имя скрыто</td>\n",
       "      <td>Ужасный магазин</td>\n",
       "      <td>NaN</td>\n",
       "      <td>Неделю назад, Новосибирск</td>\n",
       "      <td>NaN</td>\n",
       "      <td>Был оформлен заказ 20 декабря с датой курьерск...</td>\n",
       "      <td>NaN</td>\n",
       "      <td>Добрый день!\\n\\nПриносим свои извинения за дли...</td>\n",
       "      <td>0</td>\n",
       "      <td>0</td>\n",
       "    </tr>\n",
       "  </tbody>\n",
       "</table>\n",
       "</div>"
      ],
      "text/plain": [
       "              username             score                  delivery  \\\n",
       "0             Алёна К.  Отличный магазин  Способ покупки: доставка   \n",
       "1           Имя скрыто  Отличный магазин  Способ покупки: доставка   \n",
       "2             Алина Б.  Отличный магазин  Способ покупки: доставка   \n",
       "3  Vyacheslav Trushkov   Ужасный магазин  Способ покупки: доставка   \n",
       "4           Имя скрыто   Ужасный магазин                       NaN   \n",
       "\n",
       "                        date  \\\n",
       "0      6 дней назад, Саратов   \n",
       "1         6 дней назад, Клин   \n",
       "2       Неделю назад, Москва   \n",
       "3       Неделю назад, Москва   \n",
       "4  Неделю назад, Новосибирск   \n",
       "\n",
       "                                            positive  \\\n",
       "0  Всё пришло в срок, хорошо упакованное, без пов...   \n",
       "1  KITFORT кт-1005-2\\nЗолотое яблоко для меня ока...   \n",
       "2                    Быстрая доставка в тот же день.   \n",
       "3                                                NaN   \n",
       "4                                                NaN   \n",
       "\n",
       "                                            negative  \\\n",
       "0  Не измельчает более твердые сорта фруктов и ов...   \n",
       "1                                                NaN   \n",
       "2                                                Нет   \n",
       "3  Сделал заказ в приложении. Время доставки было...   \n",
       "4  Был оформлен заказ 20 декабря с датой курьерск...   \n",
       "\n",
       "                                             comment  \\\n",
       "0  Первый раз оформляла заказ в приложении \"Золот...   \n",
       "1                                                NaN   \n",
       "2  Заказывала масло от растяжек, которое нигде не...   \n",
       "3                                                NaN   \n",
       "4                                                NaN   \n",
       "\n",
       "                                              answer  likes  dislikes  \n",
       "0  Добрый день, Алёна!\\n\\nБлагодарим, что поделил...      1         0  \n",
       "1  Добрый день!\\n\\nСпасибо, что делитесь своими в...      0         2  \n",
       "2  Добрый день, Алина!\\n\\nБлагодарим вас за отзыв...      3         6  \n",
       "3  Добрый день!\\n\\nБлагодарим, что рассказали о п...      0         0  \n",
       "4  Добрый день!\\n\\nПриносим свои извинения за дли...      0         0  "
      ]
     },
     "execution_count": 38,
     "metadata": {},
     "output_type": "execute_result"
    }
   ],
   "source": [
    "df.head(5)"
   ]
  },
  {
   "cell_type": "code",
   "execution_count": 39,
   "id": "acb823e9",
   "metadata": {},
   "outputs": [],
   "source": [
    "def parse_date(x):\n",
    "    city = x.str.split(',').apply(lambda x: x[1] if len(x)>1 else None).str.strip()\n",
    "    date = x.str.split(',').apply(lambda x: x[0])\n",
    "    \n",
    "    d_ = {\n",
    "        'час': timedelta(hours=1),\n",
    "        'вчера': timedelta(hours=24),\n",
    "        'дн' : timedelta(hours=24),\n",
    "        'позавчера': timedelta(days=2), \n",
    "        'нед': timedelta(weeks=1),\n",
    "        'мес': timedelta(weeks=4),\n",
    "        'год': timedelta(weeks=48)\n",
    "    }\n",
    "    count = date.str.findall(r'\\d+').apply(lambda x: 1 if len(x)==0 else x[0]).astype(int)\n",
    "    date_ = date.str.lower().str.findall(r'час|^вчера|дн|^позавчера|нед|мес|год').apply(lambda x: x[0])\n",
    "    date = datetime.now() - date_.map(d_) * count\n",
    "    return date, city"
   ]
  },
  {
   "cell_type": "code",
   "execution_count": 40,
   "id": "2aae3a19",
   "metadata": {},
   "outputs": [],
   "source": [
    "df['parse_score'] = df['score'].map({'Ужасный магазин': 1, 'Плохой магазин': 2, 'Обычный магазин': 3, 'Хороший магазин': 4, 'Отличный магазин': 5})"
   ]
  },
  {
   "cell_type": "code",
   "execution_count": 42,
   "id": "024c396d",
   "metadata": {},
   "outputs": [
    {
     "data": {
      "text/plain": [
       "<AxesSubplot:>"
      ]
     },
     "execution_count": 42,
     "metadata": {},
     "output_type": "execute_result"
    },
    {
     "data": {
      "image/png": "[encoded data removed]",
      "text/plain": [
       "<Figure size 432x288 with 1 Axes>"
      ]
     },
     "metadata": {
      "needs_background": "light"
     },
     "output_type": "display_data"
    }
   ],
   "source": [
    "df['parse_score'].hist()"
   ]
  },
  {
   "cell_type": "code",
   "execution_count": null,
   "id": "e88d484f",
   "metadata": {},
   "outputs": [],
   "source": []
  }
 ],
 "metadata": {
  "kernelspec": {
   "display_name": "Python 3 (ipykernel)",
   "language": "python",
   "name": "python3"
  },
  "language_info": {
   "codemirror_mode": {
    "name": "ipython",
    "version": 3
   },
   "file_extension": ".py",
   "mimetype": "text/x-python",
   "name": "python",
   "nbconvert_exporter": "python",
   "pygments_lexer": "ipython3",
   "version": "3.9.7"
  }
 },
 "nbformat": 4,
 "nbformat_minor": 5
}
