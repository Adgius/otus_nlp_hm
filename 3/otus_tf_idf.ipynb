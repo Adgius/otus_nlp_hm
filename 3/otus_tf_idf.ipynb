{
  "nbformat": 4,
  "nbformat_minor": 0,
  "metadata": {
    "colab": {
      "provenance": []
    },
    "kernelspec": {
      "name": "python3",
      "display_name": "Python 3"
    },
    "language_info": {
      "name": "python"
    }
  },
  "cells": [
    {
      "cell_type": "markdown",
      "source": [
        "Worked in google colab"
      ],
      "metadata": {
        "id": "8yKI_EYJ4pyN"
      }
    },
    {
      "cell_type": "markdown",
      "source": [
        "### Download dataset from kaggle using API key"
      ],
      "metadata": {
        "id": "0jR4t27flyi6"
      }
    },
    {
      "cell_type": "code",
      "source": [
        "!pip install -q kaggle"
      ],
      "metadata": {
        "id": "4GOO3WaXe_F0"
      },
      "execution_count": 1,
      "outputs": []
    },
    {
      "cell_type": "code",
      "execution_count": 2,
      "metadata": {
        "id": "5jyvMIzbeUny",
        "colab": {
          "base_uri": "https://localhost:8080/",
          "height": 73
        },
        "outputId": "9af6476b-2e7e-4609-cc21-a5159a0a110f"
      },
      "outputs": [
        {
          "output_type": "display_data",
          "data": {
            "text/plain": [
              "<IPython.core.display.HTML object>"
            ],
            "text/html": [
              "\n",
              "     <input type=\"file\" id=\"files-f9cc306f-48c0-4781-bfc7-81fc1ce40f1d\" name=\"files[]\" multiple disabled\n",
              "        style=\"border:none\" />\n",
              "     <output id=\"result-f9cc306f-48c0-4781-bfc7-81fc1ce40f1d\">\n",
              "      Upload widget is only available when the cell has been executed in the\n",
              "      current browser session. Please rerun this cell to enable.\n",
              "      </output>\n",
              "      <script>// Copyright 2017 Google LLC\n",
              "//\n",
              "// Licensed under the Apache License, Version 2.0 (the \"License\");\n",
              "// you may not use this file except in compliance with the License.\n",
              "// You may obtain a copy of the License at\n",
              "//\n",
              "//      http://www.apache.org/licenses/LICENSE-2.0\n",
              "//\n",
              "// Unless required by applicable law or agreed to in writing, software\n",
              "// distributed under the License is distributed on an \"AS IS\" BASIS,\n",
              "// WITHOUT WARRANTIES OR CONDITIONS OF ANY KIND, either express or implied.\n",
              "// See the License for the specific language governing permissions and\n",
              "// limitations under the License.\n",
              "\n",
              "/**\n",
              " * @fileoverview Helpers for google.colab Python module.\n",
              " */\n",
              "(function(scope) {\n",
              "function span(text, styleAttributes = {}) {\n",
              "  const element = document.createElement('span');\n",
              "  element.textContent = text;\n",
              "  for (const key of Object.keys(styleAttributes)) {\n",
              "    element.style[key] = styleAttributes[key];\n",
              "  }\n",
              "  return element;\n",
              "}\n",
              "\n",
              "// Max number of bytes which will be uploaded at a time.\n",
              "const MAX_PAYLOAD_SIZE = 100 * 1024;\n",
              "\n",
              "function _uploadFiles(inputId, outputId) {\n",
              "  const steps = uploadFilesStep(inputId, outputId);\n",
              "  const outputElement = document.getElementById(outputId);\n",
              "  // Cache steps on the outputElement to make it available for the next call\n",
              "  // to uploadFilesContinue from Python.\n",
              "  outputElement.steps = steps;\n",
              "\n",
              "  return _uploadFilesContinue(outputId);\n",
              "}\n",
              "\n",
              "// This is roughly an async generator (not supported in the browser yet),\n",
              "// where there are multiple asynchronous steps and the Python side is going\n",
              "// to poll for completion of each step.\n",
              "// This uses a Promise to block the python side on completion of each step,\n",
              "// then passes the result of the previous step as the input to the next step.\n",
              "function _uploadFilesContinue(outputId) {\n",
              "  const outputElement = document.getElementById(outputId);\n",
              "  const steps = outputElement.steps;\n",
              "\n",
              "  const next = steps.next(outputElement.lastPromiseValue);\n",
              "  return Promise.resolve(next.value.promise).then((value) => {\n",
              "    // Cache the last promise value to make it available to the next\n",
              "    // step of the generator.\n",
              "    outputElement.lastPromiseValue = value;\n",
              "    return next.value.response;\n",
              "  });\n",
              "}\n",
              "\n",
              "/**\n",
              " * Generator function which is called between each async step of the upload\n",
              " * process.\n",
              " * @param {string} inputId Element ID of the input file picker element.\n",
              " * @param {string} outputId Element ID of the output display.\n",
              " * @return {!Iterable<!Object>} Iterable of next steps.\n",
              " */\n",
              "function* uploadFilesStep(inputId, outputId) {\n",
              "  const inputElement = document.getElementById(inputId);\n",
              "  inputElement.disabled = false;\n",
              "\n",
              "  const outputElement = document.getElementById(outputId);\n",
              "  outputElement.innerHTML = '';\n",
              "\n",
              "  const pickedPromise = new Promise((resolve) => {\n",
              "    inputElement.addEventListener('change', (e) => {\n",
              "      resolve(e.target.files);\n",
              "    });\n",
              "  });\n",
              "\n",
              "  const cancel = document.createElement('button');\n",
              "  inputElement.parentElement.appendChild(cancel);\n",
              "  cancel.textContent = 'Cancel upload';\n",
              "  const cancelPromise = new Promise((resolve) => {\n",
              "    cancel.onclick = () => {\n",
              "      resolve(null);\n",
              "    };\n",
              "  });\n",
              "\n",
              "  // Wait for the user to pick the files.\n",
              "  const files = yield {\n",
              "    promise: Promise.race([pickedPromise, cancelPromise]),\n",
              "    response: {\n",
              "      action: 'starting',\n",
              "    }\n",
              "  };\n",
              "\n",
              "  cancel.remove();\n",
              "\n",
              "  // Disable the input element since further picks are not allowed.\n",
              "  inputElement.disabled = true;\n",
              "\n",
              "  if (!files) {\n",
              "    return {\n",
              "      response: {\n",
              "        action: 'complete',\n",
              "      }\n",
              "    };\n",
              "  }\n",
              "\n",
              "  for (const file of files) {\n",
              "    const li = document.createElement('li');\n",
              "    li.append(span(file.name, {fontWeight: 'bold'}));\n",
              "    li.append(span(\n",
              "        `(${file.type || 'n/a'}) - ${file.size} bytes, ` +\n",
              "        `last modified: ${\n",
              "            file.lastModifiedDate ? file.lastModifiedDate.toLocaleDateString() :\n",
              "                                    'n/a'} - `));\n",
              "    const percent = span('0% done');\n",
              "    li.appendChild(percent);\n",
              "\n",
              "    outputElement.appendChild(li);\n",
              "\n",
              "    const fileDataPromise = new Promise((resolve) => {\n",
              "      const reader = new FileReader();\n",
              "      reader.onload = (e) => {\n",
              "        resolve(e.target.result);\n",
              "      };\n",
              "      reader.readAsArrayBuffer(file);\n",
              "    });\n",
              "    // Wait for the data to be ready.\n",
              "    let fileData = yield {\n",
              "      promise: fileDataPromise,\n",
              "      response: {\n",
              "        action: 'continue',\n",
              "      }\n",
              "    };\n",
              "\n",
              "    // Use a chunked sending to avoid message size limits. See b/62115660.\n",
              "    let position = 0;\n",
              "    do {\n",
              "      const length = Math.min(fileData.byteLength - position, MAX_PAYLOAD_SIZE);\n",
              "      const chunk = new Uint8Array(fileData, position, length);\n",
              "      position += length;\n",
              "\n",
              "      const base64 = btoa(String.fromCharCode.apply(null, chunk));\n",
              "      yield {\n",
              "        response: {\n",
              "          action: 'append',\n",
              "          file: file.name,\n",
              "          data: base64,\n",
              "        },\n",
              "      };\n",
              "\n",
              "      let percentDone = fileData.byteLength === 0 ?\n",
              "          100 :\n",
              "          Math.round((position / fileData.byteLength) * 100);\n",
              "      percent.textContent = `${percentDone}% done`;\n",
              "\n",
              "    } while (position < fileData.byteLength);\n",
              "  }\n",
              "\n",
              "  // All done.\n",
              "  yield {\n",
              "    response: {\n",
              "      action: 'complete',\n",
              "    }\n",
              "  };\n",
              "}\n",
              "\n",
              "scope.google = scope.google || {};\n",
              "scope.google.colab = scope.google.colab || {};\n",
              "scope.google.colab._files = {\n",
              "  _uploadFiles,\n",
              "  _uploadFilesContinue,\n",
              "};\n",
              "})(self);\n",
              "</script> "
            ]
          },
          "metadata": {}
        },
        {
          "output_type": "stream",
          "name": "stdout",
          "text": [
            "Saving kaggle.json to kaggle.json\n"
          ]
        }
      ],
      "source": [
        "from google.colab import files\n",
        "files.upload();  # kaggle api key"
      ]
    },
    {
      "cell_type": "code",
      "source": [
        "!echo ~"
      ],
      "metadata": {
        "id": "fmBRR9cPhbTK",
        "colab": {
          "base_uri": "https://localhost:8080/"
        },
        "outputId": "b040fd4e-cb06-42ca-86e2-65690984d965"
      },
      "execution_count": null,
      "outputs": [
        {
          "output_type": "stream",
          "name": "stdout",
          "text": [
            "/root\n"
          ]
        }
      ]
    },
    {
      "cell_type": "code",
      "source": [
        "!mkdir ~/.kaggle/ && mv kaggle.json ~/.kaggle/kaggle.json"
      ],
      "metadata": {
        "id": "pvHayFmZh8PM"
      },
      "execution_count": 3,
      "outputs": []
    },
    {
      "cell_type": "code",
      "source": [
        "!chmod 400 /root/.kaggle/kaggle.json"
      ],
      "metadata": {
        "id": "TRjWC7m7jU4f"
      },
      "execution_count": 4,
      "outputs": []
    },
    {
      "cell_type": "code",
      "source": [
        "!kaggle datasets list -s IMDB"
      ],
      "metadata": {
        "id": "YU7dY7JugPsy",
        "colab": {
          "base_uri": "https://localhost:8080/"
        },
        "outputId": "9bb26ad6-c230-4b57-a1d9-acf4708745d2"
      },
      "execution_count": null,
      "outputs": [
        {
          "output_type": "stream",
          "name": "stdout",
          "text": [
            "Warning: Looks like you're using an outdated API Version, please consider updating (server 1.5.13 / client 1.5.12)\n",
            "ref                                                             title                                   size  lastUpdated          downloadCount  voteCount  usabilityRating  \n",
            "--------------------------------------------------------------  -------------------------------------  -----  -------------------  -------------  ---------  ---------------  \n",
            "ashirwadsangwan/imdb-dataset                                    IMDb Dataset                             1GB  2023-03-04 04:38:56          14388        250  0.8235294        \n",
            "harshitshankhdhar/imdb-dataset-of-top-1000-movies-and-tv-shows  IMDB Movies Dataset                    175KB  2021-02-01 07:35:48          22799        270  1.0              \n",
            "lakshmi25npathi/imdb-dataset-of-50k-movie-reviews               IMDB Dataset of 50K Movie Reviews       26MB  2019-03-09 06:32:21         105329        865  0.8235294        \n",
            "sankha1998/tmdb-top-10000-popular-movies-dataset                Popular Movies of IMDb                   1MB  2023-03-04 06:38:59           3347        109  1.0              \n",
            "PromptCloudHQ/imdb-data                                         IMDB data from 2006 to 2016            134KB  2017-06-26 07:32:04          36080        381  1.0              \n",
            "luiscorter/netflix-original-films-imdb-scores                   Netflix Original Films & IMDB Scores    12KB  2021-06-03 23:24:57          13491        183  1.0              \n",
            "rmisra/imdb-spoiler-dataset                                     IMDB Spoiler Dataset                   331MB  2019-05-22 04:44:43           2712         56  1.0              \n",
            "luisfredgs/imdb-ptbr                                            IMDB PT-BR                              48MB  2018-09-10 19:53:46           5850         84  0.7352941        \n",
            "muhammadadiltalay/imdb-video-games                              IMDB Video Games                         1MB  2022-09-02 07:15:52           2275         51  0.9705882        \n",
            "hijest/genre-classification-dataset-imdb                        Genre Classification Dataset IMDb       42MB  2021-06-18 09:23:46           1866         59  1.0              \n",
            "pawankumargunjan/imdb-review                                    IMDB Review                            111MB  2022-11-18 04:30:08            723         31  0.9375           \n",
            "utathya/imdb-review-dataset                                     IMDB Review Dataset                     51MB  2018-01-16 17:53:30          13340        118  0.5294118        \n",
            "ramjasmaurya/top-250s-in-imdb                                   Top 1000s in IMDB                      355KB  2022-06-29 07:06:14           2685         70  1.0              \n",
            "carolzhangdc/imdb-5000-movie-dataset                            IMDB 5000 Movie Dataset                554KB  2017-12-16 06:54:20          35099        311  0.44117647       \n",
            "yasserh/imdb-movie-ratings-sentiment-analysis                   IMDB Movie Ratings Sentiment Analysis   21MB  2022-01-19 11:37:49           3120         55  1.0              \n",
            "ebiswas/imdb-review-dataset                                     IMDb Review Dataset - ebD                3GB  2021-01-11 18:49:12           2133         27  1.0              \n",
            "themrityunjaypathak/imdb-top-100-movies                         IMDb Top 100 Movies                      4KB  2023-01-11 17:15:09           2744         64  1.0              \n",
            "rajugc/imdb-top-250-movies-dataset                              IMDB Top 250 Movies Dataset             52KB  2023-02-11 16:02:01           2982         72  1.0              \n",
            "adrianmcmahon/imdb-india-movies                                 IMDb India Movies                      494KB  2021-06-18 01:04:21            743         23  1.0              \n",
            "dionisiusdh/imdb-indonesian-movies                              IMDb Indonesian Movies                 175KB  2020-09-05 08:51:38           1423         28  1.0              \n"
          ]
        }
      ]
    },
    {
      "cell_type": "code",
      "source": [
        "!kaggle datasets download -d lakshmi25npathi/imdb-dataset-of-50k-movie-reviews"
      ],
      "metadata": {
        "id": "EexSe0x5lPjB",
        "colab": {
          "base_uri": "https://localhost:8080/"
        },
        "outputId": "3fa3ee84-c528-472d-c4c6-4753ef883ad8"
      },
      "execution_count": 5,
      "outputs": [
        {
          "output_type": "stream",
          "name": "stdout",
          "text": [
            "Downloading imdb-dataset-of-50k-movie-reviews.zip to /content\n",
            " 54% 14.0M/25.7M [00:00<00:00, 63.0MB/s]\n",
            "100% 25.7M/25.7M [00:00<00:00, 85.5MB/s]\n"
          ]
        }
      ]
    },
    {
      "cell_type": "code",
      "source": [
        "!unzip /content/imdb-dataset-of-50k-movie-reviews.zip"
      ],
      "metadata": {
        "id": "VoV-sYVllnrf",
        "colab": {
          "base_uri": "https://localhost:8080/"
        },
        "outputId": "7cffe0e8-98db-4790-ae5b-564294088136"
      },
      "execution_count": 6,
      "outputs": [
        {
          "output_type": "stream",
          "name": "stdout",
          "text": [
            "Archive:  /content/imdb-dataset-of-50k-movie-reviews.zip\n",
            "  inflating: IMDB Dataset.csv        \n"
          ]
        }
      ]
    },
    {
      "cell_type": "markdown",
      "source": [
        "### Preprocessing"
      ],
      "metadata": {
        "id": "cI9DyzBpl9XW"
      }
    },
    {
      "cell_type": "code",
      "source": [
        "import nltk\n",
        "import pandas as pd\n",
        "import numpy as np\n",
        "\n",
        "from tqdm import tqdm\n",
        "\n",
        "tqdm.pandas()"
      ],
      "metadata": {
        "id": "bTyNU1tml3to"
      },
      "execution_count": 7,
      "outputs": []
    },
    {
      "cell_type": "code",
      "source": [
        "df = pd.read_csv('/content/IMDB Dataset.csv')"
      ],
      "metadata": {
        "id": "cqAomP5JnpsT"
      },
      "execution_count": 8,
      "outputs": []
    },
    {
      "cell_type": "code",
      "source": [
        "df.head()"
      ],
      "metadata": {
        "colab": {
          "base_uri": "https://localhost:8080/",
          "height": 206
        },
        "id": "CFqBVwfmnt7y",
        "outputId": "00a22a2e-60ac-4f90-877e-0e918d08734d"
      },
      "execution_count": 9,
      "outputs": [
        {
          "output_type": "execute_result",
          "data": {
            "text/plain": [
              "                                              review sentiment\n",
              "0  One of the other reviewers has mentioned that ...  positive\n",
              "1  A wonderful little production. <br /><br />The...  positive\n",
              "2  I thought this was a wonderful way to spend ti...  positive\n",
              "3  Basically there's a family where a little boy ...  negative\n",
              "4  Petter Mattei's \"Love in the Time of Money\" is...  positive"
            ],
            "text/html": [
              "\n",
              "  <div id=\"df-53c2a793-2387-4c89-826e-a76632fc82fa\">\n",
              "    <div class=\"colab-df-container\">\n",
              "      <div>\n",
              "<style scoped>\n",
              "    .dataframe tbody tr th:only-of-type {\n",
              "        vertical-align: middle;\n",
              "    }\n",
              "\n",
              "    .dataframe tbody tr th {\n",
              "        vertical-align: top;\n",
              "    }\n",
              "\n",
              "    .dataframe thead th {\n",
              "        text-align: right;\n",
              "    }\n",
              "</style>\n",
              "<table border=\"1\" class=\"dataframe\">\n",
              "  <thead>\n",
              "    <tr style=\"text-align: right;\">\n",
              "      <th></th>\n",
              "      <th>review</th>\n",
              "      <th>sentiment</th>\n",
              "    </tr>\n",
              "  </thead>\n",
              "  <tbody>\n",
              "    <tr>\n",
              "      <th>0</th>\n",
              "      <td>One of the other reviewers has mentioned that ...</td>\n",
              "      <td>positive</td>\n",
              "    </tr>\n",
              "    <tr>\n",
              "      <th>1</th>\n",
              "      <td>A wonderful little production. &lt;br /&gt;&lt;br /&gt;The...</td>\n",
              "      <td>positive</td>\n",
              "    </tr>\n",
              "    <tr>\n",
              "      <th>2</th>\n",
              "      <td>I thought this was a wonderful way to spend ti...</td>\n",
              "      <td>positive</td>\n",
              "    </tr>\n",
              "    <tr>\n",
              "      <th>3</th>\n",
              "      <td>Basically there's a family where a little boy ...</td>\n",
              "      <td>negative</td>\n",
              "    </tr>\n",
              "    <tr>\n",
              "      <th>4</th>\n",
              "      <td>Petter Mattei's \"Love in the Time of Money\" is...</td>\n",
              "      <td>positive</td>\n",
              "    </tr>\n",
              "  </tbody>\n",
              "</table>\n",
              "</div>\n",
              "      <button class=\"colab-df-convert\" onclick=\"convertToInteractive('df-53c2a793-2387-4c89-826e-a76632fc82fa')\"\n",
              "              title=\"Convert this dataframe to an interactive table.\"\n",
              "              style=\"display:none;\">\n",
              "        \n",
              "  <svg xmlns=\"http://www.w3.org/2000/svg\" height=\"24px\"viewBox=\"0 0 24 24\"\n",
              "       width=\"24px\">\n",
              "    <path d=\"M0 0h24v24H0V0z\" fill=\"none\"/>\n",
              "    <path d=\"M18.56 5.44l.94 2.06.94-2.06 2.06-.94-2.06-.94-.94-2.06-.94 2.06-2.06.94zm-11 1L8.5 8.5l.94-2.06 2.06-.94-2.06-.94L8.5 2.5l-.94 2.06-2.06.94zm10 10l.94 2.06.94-2.06 2.06-.94-2.06-.94-.94-2.06-.94 2.06-2.06.94z\"/><path d=\"M17.41 7.96l-1.37-1.37c-.4-.4-.92-.59-1.43-.59-.52 0-1.04.2-1.43.59L10.3 9.45l-7.72 7.72c-.78.78-.78 2.05 0 2.83L4 21.41c.39.39.9.59 1.41.59.51 0 1.02-.2 1.41-.59l7.78-7.78 2.81-2.81c.8-.78.8-2.07 0-2.86zM5.41 20L4 18.59l7.72-7.72 1.47 1.35L5.41 20z\"/>\n",
              "  </svg>\n",
              "      </button>\n",
              "      \n",
              "  <style>\n",
              "    .colab-df-container {\n",
              "      display:flex;\n",
              "      flex-wrap:wrap;\n",
              "      gap: 12px;\n",
              "    }\n",
              "\n",
              "    .colab-df-convert {\n",
              "      background-color: #E8F0FE;\n",
              "      border: none;\n",
              "      border-radius: 50%;\n",
              "      cursor: pointer;\n",
              "      display: none;\n",
              "      fill: #1967D2;\n",
              "      height: 32px;\n",
              "      padding: 0 0 0 0;\n",
              "      width: 32px;\n",
              "    }\n",
              "\n",
              "    .colab-df-convert:hover {\n",
              "      background-color: #E2EBFA;\n",
              "      box-shadow: 0px 1px 2px rgba(60, 64, 67, 0.3), 0px 1px 3px 1px rgba(60, 64, 67, 0.15);\n",
              "      fill: #174EA6;\n",
              "    }\n",
              "\n",
              "    [theme=dark] .colab-df-convert {\n",
              "      background-color: #3B4455;\n",
              "      fill: #D2E3FC;\n",
              "    }\n",
              "\n",
              "    [theme=dark] .colab-df-convert:hover {\n",
              "      background-color: #434B5C;\n",
              "      box-shadow: 0px 1px 3px 1px rgba(0, 0, 0, 0.15);\n",
              "      filter: drop-shadow(0px 1px 2px rgba(0, 0, 0, 0.3));\n",
              "      fill: #FFFFFF;\n",
              "    }\n",
              "  </style>\n",
              "\n",
              "      <script>\n",
              "        const buttonEl =\n",
              "          document.querySelector('#df-53c2a793-2387-4c89-826e-a76632fc82fa button.colab-df-convert');\n",
              "        buttonEl.style.display =\n",
              "          google.colab.kernel.accessAllowed ? 'block' : 'none';\n",
              "\n",
              "        async function convertToInteractive(key) {\n",
              "          const element = document.querySelector('#df-53c2a793-2387-4c89-826e-a76632fc82fa');\n",
              "          const dataTable =\n",
              "            await google.colab.kernel.invokeFunction('convertToInteractive',\n",
              "                                                     [key], {});\n",
              "          if (!dataTable) return;\n",
              "\n",
              "          const docLinkHtml = 'Like what you see? Visit the ' +\n",
              "            '<a target=\"_blank\" href=https://colab.research.google.com/notebooks/data_table.ipynb>data table notebook</a>'\n",
              "            + ' to learn more about interactive tables.';\n",
              "          element.innerHTML = '';\n",
              "          dataTable['output_type'] = 'display_data';\n",
              "          await google.colab.output.renderOutput(dataTable, element);\n",
              "          const docLink = document.createElement('div');\n",
              "          docLink.innerHTML = docLinkHtml;\n",
              "          element.appendChild(docLink);\n",
              "        }\n",
              "      </script>\n",
              "    </div>\n",
              "  </div>\n",
              "  "
            ]
          },
          "metadata": {},
          "execution_count": 9
        }
      ]
    },
    {
      "cell_type": "code",
      "source": [
        "df['sentiment'].value_counts()"
      ],
      "metadata": {
        "colab": {
          "base_uri": "https://localhost:8080/"
        },
        "id": "2kagtfP6nyDi",
        "outputId": "582ed708-e9eb-49ab-cdb6-ca104de0f799"
      },
      "execution_count": 10,
      "outputs": [
        {
          "output_type": "execute_result",
          "data": {
            "text/plain": [
              "positive    25000\n",
              "negative    25000\n",
              "Name: sentiment, dtype: int64"
            ]
          },
          "metadata": {},
          "execution_count": 10
        }
      ]
    },
    {
      "cell_type": "code",
      "source": [
        "#Deleting extra characters\n",
        "import string\n",
        "spec_chars = string.punctuation + '\\d\\n\\xa0«»\\t—…' \n",
        "\n",
        "df['clear'] = df['review'].str.lower().str.replace(f'[{spec_chars}]', '', regex=True)"
      ],
      "metadata": {
        "id": "-ecilcCTqO9W"
      },
      "execution_count": 11,
      "outputs": []
    },
    {
      "cell_type": "code",
      "source": [
        "nltk.download('punkt')\n",
        "from nltk.tokenize import word_tokenize\n",
        "\n",
        "df['tokens'] = df['clear'].progress_apply(word_tokenize)"
      ],
      "metadata": {
        "colab": {
          "base_uri": "https://localhost:8080/"
        },
        "id": "ioMAyp_OrDWI",
        "outputId": "73c56d9c-7e8d-40d3-eb75-e0d201d52a03"
      },
      "execution_count": 12,
      "outputs": [
        {
          "output_type": "stream",
          "name": "stderr",
          "text": [
            "[nltk_data] Downloading package punkt to /root/nltk_data...\n",
            "[nltk_data]   Unzipping tokenizers/punkt.zip.\n",
            "100%|██████████| 50000/50000 [00:44<00:00, 1123.17it/s]\n"
          ]
        }
      ]
    },
    {
      "cell_type": "code",
      "source": [
        "%%time\n",
        "#Applying stemming and removing stopwords\n",
        "\n",
        "import nltk\n",
        "from nltk.corpus import stopwords\n",
        "from nltk.stem.snowball import SnowballStemmer\n",
        "\n",
        "nltk.download('stopwords')\n",
        "stops = set(stopwords.words('english'))\n",
        "stemmer = SnowballStemmer(\"english\") \n",
        "\n",
        "df['stem'] = df['tokens'].progress_apply(lambda x: ' '.join([i for i in x if i not in stops])).progress_apply(stemmer.stem)"
      ],
      "metadata": {
        "colab": {
          "base_uri": "https://localhost:8080/"
        },
        "id": "xG5YwouYoFMs",
        "outputId": "d9e9dbe0-699e-4ea4-8140-4d58a640c9b8"
      },
      "execution_count": 13,
      "outputs": [
        {
          "output_type": "stream",
          "name": "stderr",
          "text": [
            "[nltk_data] Downloading package stopwords to /root/nltk_data...\n",
            "[nltk_data]   Unzipping corpora/stopwords.zip.\n",
            "100%|██████████| 50000/50000 [00:01<00:00, 30744.43it/s]\n",
            "100%|██████████| 50000/50000 [00:09<00:00, 5223.41it/s]"
          ]
        },
        {
          "output_type": "stream",
          "name": "stdout",
          "text": [
            "CPU times: user 10.9 s, sys: 131 ms, total: 11 s\n",
            "Wall time: 11.3 s\n"
          ]
        },
        {
          "output_type": "stream",
          "name": "stderr",
          "text": [
            "\n"
          ]
        }
      ]
    },
    {
      "cell_type": "code",
      "source": [
        "import seaborn as sns\n",
        "counts = df['stem'].str.split().explode().value_counts().reset_index()\n",
        "\n",
        "cc = counts['stem'].value_counts().reset_index()\n",
        "cc.columns = ['Частота слова', 'Число слов с такой частотой']\n",
        "cc.sort_values('Частота слова', inplace=True)\n",
        "cc"
      ],
      "metadata": {
        "colab": {
          "base_uri": "https://localhost:8080/",
          "height": 424
        },
        "id": "2M43BOfT0wTU",
        "outputId": "0e823a46-280b-4acc-8033-40d4ab9ebbdd"
      },
      "execution_count": 14,
      "outputs": [
        {
          "output_type": "execute_result",
          "data": {
            "text/plain": [
              "      Частота слова  Число слов с такой частотой\n",
              "0                 1                        97509\n",
              "1                 2                        19969\n",
              "2                 3                         9667\n",
              "3                 4                         6242\n",
              "4                 5                         4429\n",
              "...             ...                          ...\n",
              "1203          38755                            1\n",
              "1204          50331                            1\n",
              "1205          74668                            1\n",
              "1475          81910                            1\n",
              "938          114887                            1\n",
              "\n",
              "[1717 rows x 2 columns]"
            ],
            "text/html": [
              "\n",
              "  <div id=\"df-0477e97a-4b07-4ab6-8462-1eaf7f8ceb8f\">\n",
              "    <div class=\"colab-df-container\">\n",
              "      <div>\n",
              "<style scoped>\n",
              "    .dataframe tbody tr th:only-of-type {\n",
              "        vertical-align: middle;\n",
              "    }\n",
              "\n",
              "    .dataframe tbody tr th {\n",
              "        vertical-align: top;\n",
              "    }\n",
              "\n",
              "    .dataframe thead th {\n",
              "        text-align: right;\n",
              "    }\n",
              "</style>\n",
              "<table border=\"1\" class=\"dataframe\">\n",
              "  <thead>\n",
              "    <tr style=\"text-align: right;\">\n",
              "      <th></th>\n",
              "      <th>Частота слова</th>\n",
              "      <th>Число слов с такой частотой</th>\n",
              "    </tr>\n",
              "  </thead>\n",
              "  <tbody>\n",
              "    <tr>\n",
              "      <th>0</th>\n",
              "      <td>1</td>\n",
              "      <td>97509</td>\n",
              "    </tr>\n",
              "    <tr>\n",
              "      <th>1</th>\n",
              "      <td>2</td>\n",
              "      <td>19969</td>\n",
              "    </tr>\n",
              "    <tr>\n",
              "      <th>2</th>\n",
              "      <td>3</td>\n",
              "      <td>9667</td>\n",
              "    </tr>\n",
              "    <tr>\n",
              "      <th>3</th>\n",
              "      <td>4</td>\n",
              "      <td>6242</td>\n",
              "    </tr>\n",
              "    <tr>\n",
              "      <th>4</th>\n",
              "      <td>5</td>\n",
              "      <td>4429</td>\n",
              "    </tr>\n",
              "    <tr>\n",
              "      <th>...</th>\n",
              "      <td>...</td>\n",
              "      <td>...</td>\n",
              "    </tr>\n",
              "    <tr>\n",
              "      <th>1203</th>\n",
              "      <td>38755</td>\n",
              "      <td>1</td>\n",
              "    </tr>\n",
              "    <tr>\n",
              "      <th>1204</th>\n",
              "      <td>50331</td>\n",
              "      <td>1</td>\n",
              "    </tr>\n",
              "    <tr>\n",
              "      <th>1205</th>\n",
              "      <td>74668</td>\n",
              "      <td>1</td>\n",
              "    </tr>\n",
              "    <tr>\n",
              "      <th>1475</th>\n",
              "      <td>81910</td>\n",
              "      <td>1</td>\n",
              "    </tr>\n",
              "    <tr>\n",
              "      <th>938</th>\n",
              "      <td>114887</td>\n",
              "      <td>1</td>\n",
              "    </tr>\n",
              "  </tbody>\n",
              "</table>\n",
              "<p>1717 rows × 2 columns</p>\n",
              "</div>\n",
              "      <button class=\"colab-df-convert\" onclick=\"convertToInteractive('df-0477e97a-4b07-4ab6-8462-1eaf7f8ceb8f')\"\n",
              "              title=\"Convert this dataframe to an interactive table.\"\n",
              "              style=\"display:none;\">\n",
              "        \n",
              "  <svg xmlns=\"http://www.w3.org/2000/svg\" height=\"24px\"viewBox=\"0 0 24 24\"\n",
              "       width=\"24px\">\n",
              "    <path d=\"M0 0h24v24H0V0z\" fill=\"none\"/>\n",
              "    <path d=\"M18.56 5.44l.94 2.06.94-2.06 2.06-.94-2.06-.94-.94-2.06-.94 2.06-2.06.94zm-11 1L8.5 8.5l.94-2.06 2.06-.94-2.06-.94L8.5 2.5l-.94 2.06-2.06.94zm10 10l.94 2.06.94-2.06 2.06-.94-2.06-.94-.94-2.06-.94 2.06-2.06.94z\"/><path d=\"M17.41 7.96l-1.37-1.37c-.4-.4-.92-.59-1.43-.59-.52 0-1.04.2-1.43.59L10.3 9.45l-7.72 7.72c-.78.78-.78 2.05 0 2.83L4 21.41c.39.39.9.59 1.41.59.51 0 1.02-.2 1.41-.59l7.78-7.78 2.81-2.81c.8-.78.8-2.07 0-2.86zM5.41 20L4 18.59l7.72-7.72 1.47 1.35L5.41 20z\"/>\n",
              "  </svg>\n",
              "      </button>\n",
              "      \n",
              "  <style>\n",
              "    .colab-df-container {\n",
              "      display:flex;\n",
              "      flex-wrap:wrap;\n",
              "      gap: 12px;\n",
              "    }\n",
              "\n",
              "    .colab-df-convert {\n",
              "      background-color: #E8F0FE;\n",
              "      border: none;\n",
              "      border-radius: 50%;\n",
              "      cursor: pointer;\n",
              "      display: none;\n",
              "      fill: #1967D2;\n",
              "      height: 32px;\n",
              "      padding: 0 0 0 0;\n",
              "      width: 32px;\n",
              "    }\n",
              "\n",
              "    .colab-df-convert:hover {\n",
              "      background-color: #E2EBFA;\n",
              "      box-shadow: 0px 1px 2px rgba(60, 64, 67, 0.3), 0px 1px 3px 1px rgba(60, 64, 67, 0.15);\n",
              "      fill: #174EA6;\n",
              "    }\n",
              "\n",
              "    [theme=dark] .colab-df-convert {\n",
              "      background-color: #3B4455;\n",
              "      fill: #D2E3FC;\n",
              "    }\n",
              "\n",
              "    [theme=dark] .colab-df-convert:hover {\n",
              "      background-color: #434B5C;\n",
              "      box-shadow: 0px 1px 3px 1px rgba(0, 0, 0, 0.15);\n",
              "      filter: drop-shadow(0px 1px 2px rgba(0, 0, 0, 0.3));\n",
              "      fill: #FFFFFF;\n",
              "    }\n",
              "  </style>\n",
              "\n",
              "      <script>\n",
              "        const buttonEl =\n",
              "          document.querySelector('#df-0477e97a-4b07-4ab6-8462-1eaf7f8ceb8f button.colab-df-convert');\n",
              "        buttonEl.style.display =\n",
              "          google.colab.kernel.accessAllowed ? 'block' : 'none';\n",
              "\n",
              "        async function convertToInteractive(key) {\n",
              "          const element = document.querySelector('#df-0477e97a-4b07-4ab6-8462-1eaf7f8ceb8f');\n",
              "          const dataTable =\n",
              "            await google.colab.kernel.invokeFunction('convertToInteractive',\n",
              "                                                     [key], {});\n",
              "          if (!dataTable) return;\n",
              "\n",
              "          const docLinkHtml = 'Like what you see? Visit the ' +\n",
              "            '<a target=\"_blank\" href=https://colab.research.google.com/notebooks/data_table.ipynb>data table notebook</a>'\n",
              "            + ' to learn more about interactive tables.';\n",
              "          element.innerHTML = '';\n",
              "          dataTable['output_type'] = 'display_data';\n",
              "          await google.colab.output.renderOutput(dataTable, element);\n",
              "          const docLink = document.createElement('div');\n",
              "          docLink.innerHTML = docLinkHtml;\n",
              "          element.appendChild(docLink);\n",
              "        }\n",
              "      </script>\n",
              "    </div>\n",
              "  </div>\n",
              "  "
            ]
          },
          "metadata": {},
          "execution_count": 14
        }
      ]
    },
    {
      "cell_type": "code",
      "source": [
        "# Удалим редкие слова с маленькой и большой встречаемостью\n",
        "max_border = cc.loc[cc['Число слов с такой частотой'] < 2, 'Частота слова'].min()\n",
        "min_border = 2\n",
        "\n",
        "\n",
        "counts.loc[(counts['stem'] > min_border) & (counts['stem'] < max_border), 'stem'].hist()"
      ],
      "metadata": {
        "id": "j3J3Vu733LyT",
        "colab": {
          "base_uri": "https://localhost:8080/",
          "height": 282
        },
        "outputId": "30c32bf3-3a74-4d40-db9e-c1bf0142ecb0"
      },
      "execution_count": 15,
      "outputs": [
        {
          "output_type": "execute_result",
          "data": {
            "text/plain": [
              "<AxesSubplot:>"
            ]
          },
          "metadata": {},
          "execution_count": 15
        },
        {
          "output_type": "display_data",
          "data": {
            "text/plain": [
              "<Figure size 432x288 with 1 Axes>"
            ],
            "image/png": "[encoded data removed]"
          },
          "metadata": {
            "needs_background": "light"
          }
        }
      ]
    },
    {
      "cell_type": "markdown",
      "source": [
        "### Tokenization"
      ],
      "metadata": {
        "id": "2APu6uS7wSu2"
      }
    },
    {
      "cell_type": "code",
      "source": [
        "from sklearn.model_selection import train_test_split\n",
        "from sklearn.feature_extraction.text import TfidfVectorizer\n",
        "from sklearn.preprocessing import LabelEncoder\n",
        "#vectorizer = TfidfVectorizer(analyzer='word', ngram_range=(1,2), max_df=max_border, min_df=min_border, norm=False)  # качество хуже\n",
        "vectorizer = TfidfVectorizer(analyzer='word', ngram_range=(1,2), norm=None, min_df=min_border)"
      ],
      "metadata": {
        "id": "r5e8jpvupqOE"
      },
      "execution_count": 16,
      "outputs": []
    },
    {
      "cell_type": "code",
      "source": [
        "X_train, X_test, y_train, y_test = train_test_split(df['stem'], df['sentiment'], test_size=0.3, random_state=123, stratify=df['sentiment'])"
      ],
      "metadata": {
        "id": "Lket7KHoxvUv"
      },
      "execution_count": 17,
      "outputs": []
    },
    {
      "cell_type": "code",
      "source": [
        "X_train = vectorizer.fit_transform(X_train)\n",
        "X_test = vectorizer.transform(X_test)"
      ],
      "metadata": {
        "id": "psRKta5vxrA5"
      },
      "execution_count": 18,
      "outputs": []
    },
    {
      "cell_type": "code",
      "source": [
        "le = LabelEncoder()\n",
        "le.fit(y_train);"
      ],
      "metadata": {
        "id": "gixdgKuywpZM"
      },
      "execution_count": 19,
      "outputs": []
    },
    {
      "cell_type": "markdown",
      "source": [
        "# Fitting"
      ],
      "metadata": {
        "id": "CjPzkjGv3paw"
      }
    },
    {
      "cell_type": "code",
      "source": [
        "%%time\n",
        "from lightgbm import LGBMClassifier\n",
        "from sklearn.metrics import classification_report\n",
        "from sklearn.model_selection import GridSearchCV\n",
        "\n",
        "model = LGBMClassifier(random_state=123)\n",
        "params = {\n",
        "    'num_leaves': [5, 15, 31], # default=31\n",
        "    'max_depth': [-1, 3, 7], # default=-1\n",
        "    'learning_rate': [0.5, 0.1, 0.01], # default=0.1\n",
        "}\n",
        "\n",
        "clf = GridSearchCV(model, params, scoring='f1', verbose=10)\n",
        "clf.fit(X_train, le.transform(y_train))"
      ],
      "metadata": {
        "id": "TJMBbYAL3s9n",
        "collapsed": true
      },
      "execution_count": null,
      "outputs": []
    },
    {
      "cell_type": "code",
      "source": [
        "clf.best_params_"
      ],
      "metadata": {
        "id": "IuRl3USYIRH3",
        "colab": {
          "base_uri": "https://localhost:8080/"
        },
        "outputId": "ad3cb6f9-6ead-4be2-bd3d-27c1069b1a8d"
      },
      "execution_count": null,
      "outputs": [
        {
          "output_type": "execute_result",
          "data": {
            "text/plain": [
              "{'learning_rate': 0.5, 'max_depth': -1, 'num_leaves': 31}"
            ]
          },
          "metadata": {},
          "execution_count": 34
        }
      ]
    },
    {
      "cell_type": "code",
      "source": [
        "# saving time after GridSearch\n",
        "from lightgbm import LGBMClassifier\n",
        "from sklearn.metrics import classification_report\n",
        "from sklearn.model_selection import GridSearchCV\n",
        "\n",
        "clf = LGBMClassifier(**{'learning_rate': 0.5, 'max_depth': -1, 'num_leaves': 31}, random_state=123)\n",
        "clf.fit(X_train, le.transform(y_train));"
      ],
      "metadata": {
        "id": "5y_mZvfPez4L"
      },
      "execution_count": null,
      "outputs": []
    },
    {
      "cell_type": "code",
      "source": [
        "y_pred = clf.predict(X_test)"
      ],
      "metadata": {
        "id": "j2zhv8wsfr6j"
      },
      "execution_count": null,
      "outputs": []
    },
    {
      "cell_type": "code",
      "source": [
        "print(classification_report(le.transform(y_test), y_pred))"
      ],
      "metadata": {
        "colab": {
          "base_uri": "https://localhost:8080/"
        },
        "id": "p64NaX8DfgKb",
        "outputId": "d14808a3-25e1-4247-e576-4eed8026d7ad"
      },
      "execution_count": null,
      "outputs": [
        {
          "output_type": "stream",
          "name": "stdout",
          "text": [
            "              precision    recall  f1-score   support\n",
            "\n",
            "           0       0.88      0.87      0.88      7500\n",
            "           1       0.88      0.88      0.88      7500\n",
            "\n",
            "    accuracy                           0.88     15000\n",
            "   macro avg       0.88      0.88      0.88     15000\n",
            "weighted avg       0.88      0.88      0.88     15000\n",
            "\n"
          ]
        }
      ]
    },
    {
      "cell_type": "markdown",
      "source": [
        "### FastText emb + LGBM"
      ],
      "metadata": {
        "id": "X9ezWKCvTY_0"
      }
    },
    {
      "cell_type": "code",
      "source": [
        "!pip install fasttext"
      ],
      "metadata": {
        "id": "ZYluIYpEPCrI"
      },
      "execution_count": null,
      "outputs": []
    },
    {
      "cell_type": "code",
      "source": [
        "!wget https://dl.fbaipublicfiles.com/fasttext/vectors-crawl/cc.en.300.bin.gz"
      ],
      "metadata": {
        "id": "8BOG_7R0X2Cc"
      },
      "execution_count": null,
      "outputs": []
    },
    {
      "cell_type": "code",
      "source": [
        "!gzip -d /content/cc.en.300.bin.gz"
      ],
      "metadata": {
        "id": "hYIHebiAX2_i"
      },
      "execution_count": null,
      "outputs": []
    },
    {
      "cell_type": "code",
      "source": [
        "import fasttext\n",
        "\n",
        "ft = fasttext.load_model('cc.en.300.bin')"
      ],
      "metadata": {
        "colab": {
          "base_uri": "https://localhost:8080/"
        },
        "id": "1SY8FLpHTbGl",
        "outputId": "92b55db0-3f72-4b27-ff19-a4566bc657de"
      },
      "execution_count": null,
      "outputs": [
        {
          "output_type": "stream",
          "name": "stderr",
          "text": [
            "Warning : `load_model` does not return WordVectorModel or SupervisedModel any more, but a `FastText` object which is very similar.\n"
          ]
        }
      ]
    },
    {
      "cell_type": "code",
      "source": [
        "len(ft.get_words())"
      ],
      "metadata": {
        "colab": {
          "base_uri": "https://localhost:8080/"
        },
        "id": "WvqmSIZjYzuk",
        "outputId": "f9815355-62c5-4760-a03a-000737f7a85b"
      },
      "execution_count": null,
      "outputs": [
        {
          "output_type": "execute_result",
          "data": {
            "text/plain": [
              "2000000"
            ]
          },
          "metadata": {},
          "execution_count": 46
        }
      ]
    },
    {
      "cell_type": "code",
      "source": [
        "embeddings = df['clear'].progress_apply(ft.get_sentence_vector)"
      ],
      "metadata": {
        "colab": {
          "base_uri": "https://localhost:8080/"
        },
        "id": "m01x4B0ShzPh",
        "outputId": "58104ad3-28f1-425a-a2d9-ba1f8d50b630"
      },
      "execution_count": null,
      "outputs": [
        {
          "output_type": "stream",
          "name": "stderr",
          "text": [
            "100%|██████████| 50000/50000 [01:00<00:00, 831.14it/s] \n"
          ]
        }
      ]
    },
    {
      "cell_type": "code",
      "source": [
        "embeddings[0].shape"
      ],
      "metadata": {
        "colab": {
          "base_uri": "https://localhost:8080/"
        },
        "id": "rCajUTVyux-3",
        "outputId": "5e4d1143-97c9-4619-dec0-9f20a24944cc"
      },
      "execution_count": null,
      "outputs": [
        {
          "output_type": "execute_result",
          "data": {
            "text/plain": [
              "(300,)"
            ]
          },
          "metadata": {},
          "execution_count": 43
        }
      ]
    },
    {
      "cell_type": "code",
      "source": [
        "X_train, X_test, y_train, y_test = train_test_split(np.array(embeddings.tolist()), df['sentiment'], test_size=0.3, random_state=123, stratify=df['sentiment'])"
      ],
      "metadata": {
        "id": "tQwui7hhkVCN"
      },
      "execution_count": null,
      "outputs": []
    },
    {
      "cell_type": "code",
      "source": [
        "%%time\n",
        "from lightgbm import LGBMClassifier\n",
        "from sklearn.metrics import classification_report\n",
        "from sklearn.model_selection import GridSearchCV\n",
        "\n",
        "model = LGBMClassifier(random_state=123)\n",
        "params = {\n",
        "    'num_leaves': [5, 15, 31], # default=31\n",
        "    'max_depth': [-1, 3, 7], # default=-1\n",
        "    'learning_rate': [0.5, 0.1, 0.01], # default=0.1\n",
        "}\n",
        "\n",
        "clf = GridSearchCV(model, params, scoring='f1', verbose=10)\n",
        "clf.fit(X_train, le.transform(y_train))"
      ],
      "metadata": {
        "id": "EkizCKs6kgUe"
      },
      "execution_count": null,
      "outputs": []
    },
    {
      "cell_type": "code",
      "source": [
        "clf.best_params_"
      ],
      "metadata": {
        "colab": {
          "base_uri": "https://localhost:8080/"
        },
        "id": "Qqd0_y8-pFei",
        "outputId": "07ac7fe9-04bd-4108-935b-0376d1a44bf5"
      },
      "execution_count": null,
      "outputs": [
        {
          "output_type": "execute_result",
          "data": {
            "text/plain": [
              "{'learning_rate': 0.1, 'max_depth': 7, 'num_leaves': 31}"
            ]
          },
          "metadata": {},
          "execution_count": 43
        }
      ]
    },
    {
      "cell_type": "code",
      "source": [
        "y_pred = clf.predict(X_test)\n",
        "print(classification_report(le.transform(y_test), y_pred))"
      ],
      "metadata": {
        "colab": {
          "base_uri": "https://localhost:8080/"
        },
        "id": "O0Rjf76AqKPB",
        "outputId": "95452f31-c7a8-4e9f-e258-573e3e540609"
      },
      "execution_count": null,
      "outputs": [
        {
          "output_type": "stream",
          "name": "stdout",
          "text": [
            "              precision    recall  f1-score   support\n",
            "\n",
            "           0       0.84      0.84      0.84      7500\n",
            "           1       0.84      0.85      0.84      7500\n",
            "\n",
            "    accuracy                           0.84     15000\n",
            "   macro avg       0.84      0.84      0.84     15000\n",
            "weighted avg       0.84      0.84      0.84     15000\n",
            "\n"
          ]
        }
      ]
    },
    {
      "cell_type": "markdown",
      "source": [
        "### FastText"
      ],
      "metadata": {
        "id": "HJ3p5b78rFYh"
      }
    },
    {
      "cell_type": "code",
      "source": [
        "from sklearn.model_selection import train_test_split\n",
        "from sklearn.feature_extraction.text import TfidfVectorizer\n",
        "from sklearn.preprocessing import LabelEncoder\n",
        "from sklearn.metrics import classification_report\n",
        "import fasttext"
      ],
      "metadata": {
        "id": "BrYkct4U3-qr"
      },
      "execution_count": 21,
      "outputs": []
    },
    {
      "cell_type": "code",
      "source": [
        "X_train, X_test, y_train, y_test = train_test_split(df['clear'], df['sentiment'], test_size=0.3, random_state=123, stratify=df['sentiment'])"
      ],
      "metadata": {
        "id": "ENuvKNfRrUCY"
      },
      "execution_count": 22,
      "outputs": []
    },
    {
      "cell_type": "code",
      "source": [
        "# Обучается очень долго, обучил на домашнем пк и закинул готовые веса сюда\n",
        "# Лучше запустить следующую ячейку с уже обученной моделью\n",
        "text = '\\n'.join(X_train)\n",
        "\n",
        "with open('unsupervised.txt', 'w', encoding='utf-8') as txt:\n",
        "    txt.writelines(text)\n",
        "    \n",
        "model = fasttext.train_unsupervised('unsupervised.txt', epoch=10, dim=300)\n",
        "model.save_model(\"ft.bin\")\n",
        "\n",
        "!mkdir  /content/drive/MyDrive/corpus\n",
        "!mv ft.bin /content/drive/MyDrive/corpus/ft.bin"
      ],
      "metadata": {
        "id": "rDJAuZ7HweX1"
      },
      "execution_count": null,
      "outputs": []
    },
    {
      "cell_type": "code",
      "source": [
        "!pip uninstall gdown -y && pip install gdown\n",
        "!gdown -V\n",
        "!gdown 1acMmF_zTEFKnDwtgB5VNtHD--W6fzjZb\n",
        "\n",
        "model = fasttext.load_model('/content/ft.bin')"
      ],
      "metadata": {
        "id": "DhU1agyp-KWa"
      },
      "execution_count": null,
      "outputs": []
    },
    {
      "cell_type": "code",
      "source": [
        "#import fasttext\n",
        "#model = fasttext.load_model('/content/drive/MyDrive/corpus/ft.bin')\n",
        "def save_vec_format(model, path):\n",
        "    words = model.get_words()\n",
        "\n",
        "    with open(path,'w', encoding='utf-8') as file_out:\n",
        "\n",
        "        # the first line must contain number of total words and vector dimension\n",
        "        file_out.write(str(len(words)) + \" \" + str(model.get_dimension()) + \"\\n\")\n",
        "\n",
        "        # line by line, you append vectors to VEC file\n",
        "        for w in words:\n",
        "            v = model.get_word_vector(w)\n",
        "            vstr = \"\"\n",
        "            for vi in v:\n",
        "                vstr += \" \" + str(vi)\n",
        "            try:\n",
        "                file_out.write(w + vstr+'\\n')\n",
        "            except:\n",
        "                pass\n",
        "            \n",
        "save_vec_format(model, \"ft.vec\")"
      ],
      "metadata": {
        "id": "NFs817pAoqI8"
      },
      "execution_count": null,
      "outputs": []
    },
    {
      "cell_type": "code",
      "source": [
        "text = X_train.to_frame()\n",
        "text['format'] = np.where(y_train == 'positive', '__label__pos ', '__label__neg ') + text['clear']\n",
        "text = '\\n'.join(text['format'])"
      ],
      "metadata": {
        "id": "xCPCdv9nnKJ1"
      },
      "execution_count": null,
      "outputs": []
    },
    {
      "cell_type": "code",
      "source": [
        "with open('supervised.txt', 'w', encoding='utf-8') as txt:\n",
        "    txt.writelines(text)"
      ],
      "metadata": {
        "id": "aa8znpdio0f6"
      },
      "execution_count": null,
      "outputs": []
    },
    {
      "cell_type": "code",
      "source": [
        "model = fasttext.train_supervised('supervised.txt', pretrainedVectors=\"ft.vec\", epoch=3, ws=5, dim=300)"
      ],
      "metadata": {
        "id": "dyYL_6J_o2xS"
      },
      "execution_count": null,
      "outputs": []
    },
    {
      "cell_type": "code",
      "source": [
        "pred = model.predict(X_test.to_list())\n",
        "y_pred = np.where(np.array(pred[0]).squeeze() == '__label__pos', 1 , 0)"
      ],
      "metadata": {
        "id": "guCKPL8i5gCZ"
      },
      "execution_count": null,
      "outputs": []
    },
    {
      "cell_type": "code",
      "source": [
        "print(classification_report(np.where(y_test == 'positive', 1, 0), \n",
        "                            y_pred))"
      ],
      "metadata": {
        "colab": {
          "base_uri": "https://localhost:8080/"
        },
        "id": "NMcYzHXI5lJy",
        "outputId": "d9d2b463-64a0-464f-d1ef-877b0feb6d82"
      },
      "execution_count": null,
      "outputs": [
        {
          "output_type": "stream",
          "name": "stdout",
          "text": [
            "              precision    recall  f1-score   support\n",
            "\n",
            "           0       0.90      0.89      0.90      7500\n",
            "           1       0.89      0.90      0.90      7500\n",
            "\n",
            "    accuracy                           0.90     15000\n",
            "   macro avg       0.90      0.90      0.90     15000\n",
            "weighted avg       0.90      0.90      0.90     15000\n",
            "\n"
          ]
        }
      ]
    },
    {
      "cell_type": "markdown",
      "source": [
        "Fasttext + LGBM"
      ],
      "metadata": {
        "id": "LxDUKwiebdlV"
      }
    },
    {
      "cell_type": "code",
      "source": [
        "embeddings = df['clear'].progress_apply(model.get_sentence_vector)"
      ],
      "metadata": {
        "colab": {
          "base_uri": "https://localhost:8080/"
        },
        "id": "JFfUPo-Vbc4B",
        "outputId": "909dfe28-c58b-464e-dfe4-9bce95be8dea"
      },
      "execution_count": null,
      "outputs": [
        {
          "output_type": "stream",
          "name": "stderr",
          "text": [
            "100%|██████████| 50000/50000 [02:30<00:00, 331.96it/s]\n"
          ]
        }
      ]
    },
    {
      "cell_type": "code",
      "source": [
        "X_train, X_test, y_train, y_test = train_test_split(np.array(embeddings.tolist()), df['sentiment'], test_size=0.3, random_state=123, stratify=df['sentiment'])"
      ],
      "metadata": {
        "id": "-PJ43svZb7Qh"
      },
      "execution_count": null,
      "outputs": []
    },
    {
      "cell_type": "code",
      "source": [
        "model = LGBMClassifier(random_state=123)\n",
        "params = {\n",
        "    'num_leaves': [5, 15, 31], # default=31\n",
        "    'max_depth': [-1, 3, 7], # default=-1\n",
        "    'learning_rate': [0.5, 0.1, 0.01], # default=0.1\n",
        "}\n",
        "\n",
        "clf = GridSearchCV(model, params, scoring='f1', verbose=10)\n",
        "clf.fit(X_train, le.transform(y_train))"
      ],
      "metadata": {
        "id": "7jjKHIFccBcc"
      },
      "execution_count": null,
      "outputs": []
    },
    {
      "cell_type": "code",
      "source": [
        "clf.best_params_"
      ],
      "metadata": {
        "colab": {
          "base_uri": "https://localhost:8080/"
        },
        "id": "geYTP5BoiDu6",
        "outputId": "78db8677-ef86-41a6-e228-6c9730e544b2"
      },
      "execution_count": null,
      "outputs": [
        {
          "output_type": "execute_result",
          "data": {
            "text/plain": [
              "{'learning_rate': 0.1, 'max_depth': -1, 'num_leaves': 31}"
            ]
          },
          "metadata": {},
          "execution_count": 48
        }
      ]
    },
    {
      "cell_type": "code",
      "source": [
        "y_pred = clf.predict(X_test)\n",
        "print(classification_report(le.transform(y_test), y_pred))"
      ],
      "metadata": {
        "colab": {
          "base_uri": "https://localhost:8080/"
        },
        "id": "I4bkr8likImt",
        "outputId": "1c66c8e0-eb4c-4b60-b1ac-41269a09cd88"
      },
      "execution_count": null,
      "outputs": [
        {
          "output_type": "stream",
          "name": "stdout",
          "text": [
            "              precision    recall  f1-score   support\n",
            "\n",
            "           0       0.87      0.86      0.86      7500\n",
            "           1       0.86      0.87      0.86      7500\n",
            "\n",
            "    accuracy                           0.86     15000\n",
            "   macro avg       0.86      0.86      0.86     15000\n",
            "weighted avg       0.86      0.86      0.86     15000\n",
            "\n"
          ]
        }
      ]
    },
    {
      "cell_type": "markdown",
      "source": [
        "Вывод - в данном случае, лучше использовать собственные эмбеддинги"
      ],
      "metadata": {
        "id": "kBfm64wN6NJR"
      }
    },
    {
      "cell_type": "markdown",
      "source": [
        "### FastText + TF-IDF"
      ],
      "metadata": {
        "id": "ITYGmeHY6vfZ"
      }
    },
    {
      "cell_type": "code",
      "source": [
        "# модель с предыдущего шага с собственными эмбеддингами\n",
        "\n",
        "model = fasttext.load_model('/content/ft.bin')"
      ],
      "metadata": {
        "id": "8FaSxfa76TRJ"
      },
      "execution_count": null,
      "outputs": []
    },
    {
      "cell_type": "code",
      "source": [
        "vocab = model.get_words()"
      ],
      "metadata": {
        "id": "5N-NRPafRauD"
      },
      "execution_count": null,
      "outputs": []
    },
    {
      "cell_type": "code",
      "source": [
        "X_train, X_test, y_train, y_test = train_test_split(df['stem'], df['sentiment'], test_size=0.3, random_state=123, stratify=df['sentiment'])\n",
        "\n",
        "#vectorizer = TfidfVectorizer(analyzer='word', ngram_range=(1,2), norm=False, min_df=min_border)\n",
        "vectorizer = TfidfVectorizer(vocabulary=vocab, norm=None, min_df=min_border)\n",
        "X_train_tfidf = vectorizer.fit_transform(X_train)\n",
        "X_test_tfidf = vectorizer.transform(X_test)"
      ],
      "metadata": {
        "id": "BNKuq-yf8nBh"
      },
      "execution_count": null,
      "outputs": []
    },
    {
      "cell_type": "code",
      "source": [
        "features = vectorizer.get_feature_names_out()"
      ],
      "metadata": {
        "id": "ZdSCa9zj-g8g"
      },
      "execution_count": null,
      "outputs": []
    },
    {
      "cell_type": "code",
      "source": [
        "from tqdm import tqdm\n",
        "\n",
        "def get_sent_emb_with_tfidf(sents, vectorized):\n",
        "    embeddings = []\n",
        "    with tqdm(total=vectorized.shape[0]) as pbar:\n",
        "        for n, row in enumerate(vectorized):\n",
        "            _, idx = row.nonzero()\n",
        "            tfidf = row[0, idx].toarray()[0]\n",
        "            sent_emb = np.zeros(300)  # length of emb\n",
        "            for t, i in zip(tfidf, idx):\n",
        "                emb = model.get_word_vector(features[i])\n",
        "                sent_emb += t * emb\n",
        "            embeddings.append(sent_emb/np.linalg.norm(sent_emb))\n",
        "            pbar.update(1)\n",
        "        return np.array(embeddings)"
      ],
      "metadata": {
        "id": "PI5Jjeuw-NIw"
      },
      "execution_count": null,
      "outputs": []
    },
    {
      "cell_type": "code",
      "source": [
        "X_train_emb = get_sent_emb_with_tfidf(X_train, X_train_tfidf)"
      ],
      "metadata": {
        "colab": {
          "base_uri": "https://localhost:8080/"
        },
        "id": "yCRv0qfnA9PW",
        "outputId": "40d3dd7c-1aae-4e51-b1cd-8466901c162b"
      },
      "execution_count": null,
      "outputs": [
        {
          "output_type": "stream",
          "name": "stderr",
          "text": [
            "100%|██████████| 35000/35000 [03:18<00:00, 176.33it/s]\n"
          ]
        }
      ]
    },
    {
      "cell_type": "code",
      "source": [
        "X_test_emb = get_sent_emb_with_tfidf(X_test, X_test_tfidf)"
      ],
      "metadata": {
        "colab": {
          "base_uri": "https://localhost:8080/"
        },
        "id": "tM04pyZYMfWz",
        "outputId": "61fb6dbc-78d6-4419-c600-578c61095b62"
      },
      "execution_count": null,
      "outputs": [
        {
          "output_type": "stream",
          "name": "stderr",
          "text": [
            "100%|██████████| 15000/15000 [01:20<00:00, 185.58it/s]\n"
          ]
        }
      ]
    },
    {
      "cell_type": "code",
      "source": [
        "from lightgbm import LGBMClassifier\n",
        "from sklearn.metrics import classification_report\n",
        "from sklearn.model_selection import GridSearchCV\n",
        "\n",
        "model = LGBMClassifier(random_state=123)\n",
        "params = {\n",
        "    'num_leaves': [5, 15, 31], # default=31\n",
        "    'max_depth': [-1, 3, 7], # default=-1\n",
        "    'learning_rate': [0.5, 0.1, 0.01], # default=0.1\n",
        "}\n",
        "\n",
        "clf = GridSearchCV(model, params, scoring='f1', verbose=10)\n",
        "clf.fit(X_train_emb, le.transform(y_train))"
      ],
      "metadata": {
        "id": "eKYvCuOpQDs2"
      },
      "execution_count": null,
      "outputs": []
    },
    {
      "cell_type": "code",
      "source": [
        "clf.best_params_"
      ],
      "metadata": {
        "colab": {
          "base_uri": "https://localhost:8080/"
        },
        "id": "bXTGP6tDW_QW",
        "outputId": "18434b67-0c05-4211-ec9f-85919e7592e7"
      },
      "execution_count": null,
      "outputs": [
        {
          "output_type": "execute_result",
          "data": {
            "text/plain": [
              "{'learning_rate': 0.1, 'max_depth': 7, 'num_leaves': 31}"
            ]
          },
          "metadata": {},
          "execution_count": 53
        }
      ]
    },
    {
      "cell_type": "code",
      "source": [
        "y_pred = clf.predict(X_test_emb)\n",
        "print(classification_report(le.transform(y_test), y_pred))"
      ],
      "metadata": {
        "colab": {
          "base_uri": "https://localhost:8080/"
        },
        "id": "ajx5oGDXXBBe",
        "outputId": "ad058580-0cd4-4015-9cae-53067a2b2e63"
      },
      "execution_count": null,
      "outputs": [
        {
          "output_type": "stream",
          "name": "stdout",
          "text": [
            "              precision    recall  f1-score   support\n",
            "\n",
            "           0       0.85      0.85      0.85      7500\n",
            "           1       0.85      0.85      0.85      7500\n",
            "\n",
            "    accuracy                           0.85     15000\n",
            "   macro avg       0.85      0.85      0.85     15000\n",
            "weighted avg       0.85      0.85      0.85     15000\n",
            "\n"
          ]
        }
      ]
    },
    {
      "cell_type": "markdown",
      "source": [
        "trying to use linear classifier"
      ],
      "metadata": {
        "id": "4eKSAszBR7PD"
      }
    },
    {
      "cell_type": "code",
      "source": [
        "from sklearn.linear_model import LogisticRegression\n",
        "\n",
        "model = LogisticRegression(random_state=123, solver='saga', penalty='elasticnet')\n",
        "params = {\n",
        "    'C': [0.5, 1.0, 2.0], # default=1\n",
        "    'l1_ratio' : [0, 0.3, 0.5, 0.7, 1.0]  # default=None\n",
        "}\n",
        "\n",
        "clf = GridSearchCV(model, params, scoring='f1', verbose=10)\n",
        "clf.fit(X_train_emb, le.transform(y_train))"
      ],
      "metadata": {
        "id": "8DuYzwgSQznW"
      },
      "execution_count": null,
      "outputs": []
    },
    {
      "cell_type": "code",
      "source": [
        "clf.best_params_"
      ],
      "metadata": {
        "colab": {
          "base_uri": "https://localhost:8080/"
        },
        "id": "gGvUfPCVU80_",
        "outputId": "015c4297-5e9b-47fc-d0cb-cf3260936cfb"
      },
      "execution_count": null,
      "outputs": [
        {
          "output_type": "execute_result",
          "data": {
            "text/plain": [
              "{'C': 2.0, 'l1_ratio': 0.5}"
            ]
          },
          "metadata": {},
          "execution_count": 36
        }
      ]
    },
    {
      "cell_type": "code",
      "source": [
        "y_pred = clf.predict(X_test_emb)\n",
        "print(classification_report(le.transform(y_test), y_pred))"
      ],
      "metadata": {
        "colab": {
          "base_uri": "https://localhost:8080/"
        },
        "id": "I2CHvjhoU7Du",
        "outputId": "385b3933-dff3-4653-fa8a-5cdd2f0e092f"
      },
      "execution_count": null,
      "outputs": [
        {
          "output_type": "stream",
          "name": "stdout",
          "text": [
            "              precision    recall  f1-score   support\n",
            "\n",
            "           0       0.88      0.87      0.87      7500\n",
            "           1       0.87      0.88      0.87      7500\n",
            "\n",
            "    accuracy                           0.87     15000\n",
            "   macro avg       0.87      0.87      0.87     15000\n",
            "weighted avg       0.87      0.87      0.87     15000\n",
            "\n"
          ]
        }
      ]
    },
    {
      "cell_type": "markdown",
      "source": [
        "# Итог"
      ],
      "metadata": {
        "id": "3p4eSOVvbI5o"
      }
    },
    {
      "cell_type": "markdown",
      "source": [
        "<table>\n",
        "    <thead>\n",
        "        <tr>\n",
        "            <th colspan=\"1\">Method</th>\n",
        "            <th colspan=\"2\">F1</th>\n",
        "        </tr>\n",
        "    </thead>\n",
        "    <tbody>\n",
        "        <tr>\n",
        "            <td>TF-IDF + LGBM</td>\n",
        "            <td>0.88</td>\n",
        "        </tr>\n",
        "        <tr>\n",
        "            <td>Fasttext pre-trained emb + LGBM</td>\n",
        "            <td>0.84</td>\n",
        "        </tr>\n",
        "        <tr>\n",
        "            <td>Fasttext trained emb + Fasttext classifier</td>\n",
        "            <td>0.90</td>\n",
        "        </tr>\n",
        "        <tr>\n",
        "            <td>Fasttext trained emb + LGBM</td>\n",
        "            <td>0.86</td>\n",
        "        </tr>\n",
        "        <tr>\n",
        "            <td>Fasttext trained emb + TF-IDF + LGBM</td>\n",
        "            <td>0.85</td>\n",
        "        </tr>\n",
        "        <tr>\n",
        "            <td>Fasttext trained emb + TF-IDF + linear clf</td>\n",
        "            <td>0.87</td>\n",
        "        </tr>\n",
        "    </tbody>\n",
        "</table>\n",
        "\n"
      ],
      "metadata": {
        "id": "hCqf0XmBYtRX"
      }
    },
    {
      "cell_type": "markdown",
      "source": [
        "1. TF-IDF + простой классификатор хороший pipeline \n",
        "2. Лучше обучать собственную модель cbow или skip-gram модель fasttext. И иметь собственные эмбеддинги\n",
        "3. TF-IDF + эмбеддинги в данном случае показали спорное качество\n",
        "4. Линейные классификаторы (насколько я понял, в библиотеке fasttext в методе `train_supervised` используется тоже линейный классификатор) могут показать лучший результат, чем градиентный бустинг "
      ],
      "metadata": {
        "id": "_gM0vrRmbL1h"
      }
    }
  ]
}